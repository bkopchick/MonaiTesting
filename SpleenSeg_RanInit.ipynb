{
 "cells": [
  {
   "cell_type": "markdown",
   "id": "d3f2f885",
   "metadata": {},
   "source": [
    "## Spleen Model Without NVIDIA Pretrain"
   ]
  },
  {
   "cell_type": "markdown",
   "id": "7cae8dd1",
   "metadata": {},
   "source": [
    "#### \n",
    "- Using same Unet model\n",
    "- Same number of Epochs\n",
    "- Using randomly initialized model"
   ]
  },
  {
   "cell_type": "code",
   "execution_count": 24,
   "id": "c4b75644",
   "metadata": {},
   "outputs": [],
   "source": [
    "%matplotlib inline"
   ]
  },
  {
   "cell_type": "code",
   "execution_count": 25,
   "id": "3e34d4f5",
   "metadata": {},
   "outputs": [],
   "source": [
    "import os\n",
    "import tempfile\n",
    "import glob\n",
    "\n",
    "import matplotlib.pyplot as plt\n",
    "import torch\n",
    "import numpy as np\n",
    "\n",
    "from monai.apps import download_and_extract\n",
    "from monai.networks.nets import UNet\n",
    "from monai.networks.layers import Norm\n",
    "from monai.losses import DiceFocalLoss\n",
    "from monai.metrics import DiceMetric\n",
    "from monai.inferers import sliding_window_inference\n",
    "from monai.data import (\n",
    "    LMDBDataset,\n",
    "    DataLoader,\n",
    "    decollate_batch,\n",
    "    ImageDataset,\n",
    "    Dataset\n",
    ")\n",
    "from monai.apps import load_from_mmar\n",
    "from monai.transforms import (\n",
    "    AsDiscrete,\n",
    "    EnsureChannelFirstd,\n",
    "    Compose,\n",
    "    LoadImaged,\n",
    "    ScaleIntensityRanged,\n",
    "    Spacingd,\n",
    "    Orientationd,\n",
    "    CropForegroundd,\n",
    "    RandCropByPosNegLabeld,\n",
    "    RandAffined,\n",
    "    RandRotated,\n",
    "    EnsureType,\n",
    "    EnsureTyped,\n",
    ")\n",
    "from monai.utils import set_determinism\n",
    "from monai.apps.mmars import RemoteMMARKeys"
   ]
  },
  {
   "cell_type": "code",
   "execution_count": 26,
   "id": "64bbbcd6",
   "metadata": {},
   "outputs": [],
   "source": [
    "PRETRAINED = False"
   ]
  },
  {
   "cell_type": "code",
   "execution_count": 27,
   "id": "78c7e69d",
   "metadata": {},
   "outputs": [
    {
     "name": "stdout",
     "output_type": "stream",
     "text": [
      "monai_data/\n"
     ]
    }
   ],
   "source": [
    "directory = \"monai_data/\"\n",
    "root_dir = tempfile.mkdtemp() if directory is None else directory\n",
    "print(root_dir)"
   ]
  },
  {
   "cell_type": "code",
   "execution_count": 28,
   "id": "05b86309",
   "metadata": {},
   "outputs": [
    {
     "name": "stdout",
     "output_type": "stream",
     "text": [
      "Verified 'Task09_Spleen.tar', md5: 410d4a301da4e5b2f6f86ec3ddba524e.\n",
      "File exists: monai_data/Task09_Spleen.tar, skipped downloading.\n",
      "Non-empty folder exists in monai_data/Task09_Spleen, skipped extracting.\n"
     ]
    }
   ],
   "source": [
    "resource = \"https://msd-for-monai.s3-us-west-2.amazonaws.com/Task09_Spleen.tar\"\n",
    "md5 = \"410d4a301da4e5b2f6f86ec3ddba524e\"\n",
    "\n",
    "compressed_file = os.path.join(root_dir, \"Task09_Spleen.tar\")\n",
    "download_and_extract(resource, compressed_file, root_dir, md5)\n",
    "data_dir = os.path.join(root_dir, \"Task09_Spleen\")"
   ]
  },
  {
   "cell_type": "code",
   "execution_count": 29,
   "id": "f0b44712",
   "metadata": {},
   "outputs": [],
   "source": [
    "train_images = sorted(\n",
    "    glob.glob(os.path.join(data_dir, \"imagesTr\", \"*.nii.gz\")))\n",
    "train_labels = sorted(\n",
    "    glob.glob(os.path.join(data_dir, \"labelsTr\", \"*.nii.gz\")))\n",
    "data_dicts = [\n",
    "    {\"image\": image_name, \"label\": label_name}\n",
    "    for image_name, label_name in zip(train_images, train_labels)\n",
    "]\n",
    "train_files, val_files = data_dicts[:-9], data_dicts[-9:]"
   ]
  },
  {
   "cell_type": "code",
   "execution_count": 30,
   "id": "ca88f14d",
   "metadata": {},
   "outputs": [
    {
     "data": {
      "text/plain": [
       "[{'image': 'monai_data/Task09_Spleen/imagesTr/spleen_10.nii.gz',\n",
       "  'label': 'monai_data/Task09_Spleen/labelsTr/spleen_10.nii.gz'},\n",
       " {'image': 'monai_data/Task09_Spleen/imagesTr/spleen_12.nii.gz',\n",
       "  'label': 'monai_data/Task09_Spleen/labelsTr/spleen_12.nii.gz'},\n",
       " {'image': 'monai_data/Task09_Spleen/imagesTr/spleen_13.nii.gz',\n",
       "  'label': 'monai_data/Task09_Spleen/labelsTr/spleen_13.nii.gz'},\n",
       " {'image': 'monai_data/Task09_Spleen/imagesTr/spleen_14.nii.gz',\n",
       "  'label': 'monai_data/Task09_Spleen/labelsTr/spleen_14.nii.gz'},\n",
       " {'image': 'monai_data/Task09_Spleen/imagesTr/spleen_16.nii.gz',\n",
       "  'label': 'monai_data/Task09_Spleen/labelsTr/spleen_16.nii.gz'},\n",
       " {'image': 'monai_data/Task09_Spleen/imagesTr/spleen_17.nii.gz',\n",
       "  'label': 'monai_data/Task09_Spleen/labelsTr/spleen_17.nii.gz'},\n",
       " {'image': 'monai_data/Task09_Spleen/imagesTr/spleen_18.nii.gz',\n",
       "  'label': 'monai_data/Task09_Spleen/labelsTr/spleen_18.nii.gz'},\n",
       " {'image': 'monai_data/Task09_Spleen/imagesTr/spleen_19.nii.gz',\n",
       "  'label': 'monai_data/Task09_Spleen/labelsTr/spleen_19.nii.gz'},\n",
       " {'image': 'monai_data/Task09_Spleen/imagesTr/spleen_2.nii.gz',\n",
       "  'label': 'monai_data/Task09_Spleen/labelsTr/spleen_2.nii.gz'},\n",
       " {'image': 'monai_data/Task09_Spleen/imagesTr/spleen_20.nii.gz',\n",
       "  'label': 'monai_data/Task09_Spleen/labelsTr/spleen_20.nii.gz'},\n",
       " {'image': 'monai_data/Task09_Spleen/imagesTr/spleen_21.nii.gz',\n",
       "  'label': 'monai_data/Task09_Spleen/labelsTr/spleen_21.nii.gz'},\n",
       " {'image': 'monai_data/Task09_Spleen/imagesTr/spleen_22.nii.gz',\n",
       "  'label': 'monai_data/Task09_Spleen/labelsTr/spleen_22.nii.gz'},\n",
       " {'image': 'monai_data/Task09_Spleen/imagesTr/spleen_24.nii.gz',\n",
       "  'label': 'monai_data/Task09_Spleen/labelsTr/spleen_24.nii.gz'},\n",
       " {'image': 'monai_data/Task09_Spleen/imagesTr/spleen_25.nii.gz',\n",
       "  'label': 'monai_data/Task09_Spleen/labelsTr/spleen_25.nii.gz'},\n",
       " {'image': 'monai_data/Task09_Spleen/imagesTr/spleen_26.nii.gz',\n",
       "  'label': 'monai_data/Task09_Spleen/labelsTr/spleen_26.nii.gz'},\n",
       " {'image': 'monai_data/Task09_Spleen/imagesTr/spleen_27.nii.gz',\n",
       "  'label': 'monai_data/Task09_Spleen/labelsTr/spleen_27.nii.gz'},\n",
       " {'image': 'monai_data/Task09_Spleen/imagesTr/spleen_28.nii.gz',\n",
       "  'label': 'monai_data/Task09_Spleen/labelsTr/spleen_28.nii.gz'},\n",
       " {'image': 'monai_data/Task09_Spleen/imagesTr/spleen_29.nii.gz',\n",
       "  'label': 'monai_data/Task09_Spleen/labelsTr/spleen_29.nii.gz'},\n",
       " {'image': 'monai_data/Task09_Spleen/imagesTr/spleen_3.nii.gz',\n",
       "  'label': 'monai_data/Task09_Spleen/labelsTr/spleen_3.nii.gz'},\n",
       " {'image': 'monai_data/Task09_Spleen/imagesTr/spleen_31.nii.gz',\n",
       "  'label': 'monai_data/Task09_Spleen/labelsTr/spleen_31.nii.gz'},\n",
       " {'image': 'monai_data/Task09_Spleen/imagesTr/spleen_32.nii.gz',\n",
       "  'label': 'monai_data/Task09_Spleen/labelsTr/spleen_32.nii.gz'},\n",
       " {'image': 'monai_data/Task09_Spleen/imagesTr/spleen_33.nii.gz',\n",
       "  'label': 'monai_data/Task09_Spleen/labelsTr/spleen_33.nii.gz'},\n",
       " {'image': 'monai_data/Task09_Spleen/imagesTr/spleen_38.nii.gz',\n",
       "  'label': 'monai_data/Task09_Spleen/labelsTr/spleen_38.nii.gz'},\n",
       " {'image': 'monai_data/Task09_Spleen/imagesTr/spleen_40.nii.gz',\n",
       "  'label': 'monai_data/Task09_Spleen/labelsTr/spleen_40.nii.gz'},\n",
       " {'image': 'monai_data/Task09_Spleen/imagesTr/spleen_41.nii.gz',\n",
       "  'label': 'monai_data/Task09_Spleen/labelsTr/spleen_41.nii.gz'},\n",
       " {'image': 'monai_data/Task09_Spleen/imagesTr/spleen_44.nii.gz',\n",
       "  'label': 'monai_data/Task09_Spleen/labelsTr/spleen_44.nii.gz'},\n",
       " {'image': 'monai_data/Task09_Spleen/imagesTr/spleen_45.nii.gz',\n",
       "  'label': 'monai_data/Task09_Spleen/labelsTr/spleen_45.nii.gz'},\n",
       " {'image': 'monai_data/Task09_Spleen/imagesTr/spleen_46.nii.gz',\n",
       "  'label': 'monai_data/Task09_Spleen/labelsTr/spleen_46.nii.gz'},\n",
       " {'image': 'monai_data/Task09_Spleen/imagesTr/spleen_47.nii.gz',\n",
       "  'label': 'monai_data/Task09_Spleen/labelsTr/spleen_47.nii.gz'},\n",
       " {'image': 'monai_data/Task09_Spleen/imagesTr/spleen_49.nii.gz',\n",
       "  'label': 'monai_data/Task09_Spleen/labelsTr/spleen_49.nii.gz'},\n",
       " {'image': 'monai_data/Task09_Spleen/imagesTr/spleen_52.nii.gz',\n",
       "  'label': 'monai_data/Task09_Spleen/labelsTr/spleen_52.nii.gz'},\n",
       " {'image': 'monai_data/Task09_Spleen/imagesTr/spleen_53.nii.gz',\n",
       "  'label': 'monai_data/Task09_Spleen/labelsTr/spleen_53.nii.gz'}]"
      ]
     },
     "execution_count": 30,
     "metadata": {},
     "output_type": "execute_result"
    }
   ],
   "source": [
    "train_files"
   ]
  },
  {
   "cell_type": "code",
   "execution_count": 31,
   "id": "cd04ed82",
   "metadata": {},
   "outputs": [],
   "source": [
    "train_transforms = Compose( #Transformations for training dataset\n",
    "    [\n",
    "        LoadImaged(keys=[\"image\", \"label\"]),\n",
    "        EnsureChannelFirstd(keys=[\"image\", \"label\"]),\n",
    "        Spacingd(keys=[\"image\", \"label\"], pixdim=(\n",
    "            1.5, 1.5, 2.0), mode=(\"bilinear\", \"nearest\")),\n",
    "        Orientationd(keys=[\"image\", \"label\"], axcodes=\"RAS\"),\n",
    "        ScaleIntensityRanged(\n",
    "            keys=[\"image\"], a_min=-57, a_max=164,\n",
    "            b_min=0.0, b_max=1.0, clip=True,\n",
    "        ),\n",
    "        CropForegroundd(keys=[\"image\", \"label\"], source_key=\"image\"),\n",
    "        RandCropByPosNegLabeld(\n",
    "            keys=[\"image\", \"label\"],\n",
    "            label_key=\"label\",\n",
    "            spatial_size=(96, 96, 96),\n",
    "            pos=1,\n",
    "            neg=1,\n",
    "            num_samples=4,\n",
    "            image_key=\"image\",\n",
    "            image_threshold=0,\n",
    "        ),\n",
    "        RandAffined(\n",
    "            keys=['image', 'label'],\n",
    "            mode=('bilinear', 'nearest'),\n",
    "            prob=0.5,\n",
    "            spatial_size=(96, 96, 96),\n",
    "            rotate_range=(np.pi/18, np.pi/18, np.pi/5),\n",
    "            scale_range=(0.05, 0.05, 0.05)\n",
    "        ),\n",
    "        EnsureTyped(keys=[\"image\", \"label\"]),\n",
    "    ]\n",
    ")\n",
    "val_transforms = Compose( #Transformations for testing dataset\n",
    "    [\n",
    "        LoadImaged(keys=[\"image\", \"label\"]),\n",
    "        EnsureChannelFirstd(keys=[\"image\", \"label\"]),\n",
    "        Spacingd(keys=[\"image\", \"label\"], pixdim=(\n",
    "            1.5, 1.5, 2.0), mode=(\"bilinear\", \"nearest\")),\n",
    "        Orientationd(keys=[\"image\", \"label\"], axcodes=\"RAS\"),\n",
    "        ScaleIntensityRanged(\n",
    "            keys=[\"image\"], a_min=-57, a_max=164,\n",
    "            b_min=0.0, b_max=1.0, clip=True,\n",
    "        ),\n",
    "        RandRotated(\n",
    "            keys=['image', 'label'],\n",
    "            mode=('bilinear', 'nearest'),\n",
    "            range_x=np.pi/18,\n",
    "            range_y=np.pi/18,\n",
    "            range_z=np.pi/5,\n",
    "            prob=1.0,\n",
    "            padding_mode=('reflection', 'reflection'),\n",
    "        ),\n",
    "        CropForegroundd(keys=[\"image\", \"label\"], source_key=\"image\"),\n",
    "        EnsureTyped(keys=[\"image\", \"label\"]),\n",
    "    ]\n",
    ")"
   ]
  },
  {
   "cell_type": "code",
   "execution_count": 32,
   "id": "011b1253",
   "metadata": {},
   "outputs": [
    {
     "name": "stderr",
     "output_type": "stream",
     "text": [
      "100%|██████████| 32/32 [00:00<00:00, 37056.25it/s]\n"
     ]
    },
    {
     "name": "stdout",
     "output_type": "stream",
     "text": [
      "Accessing lmdb file: /home/jupyter/covid19det-kaggle/kaggle/monai_data/monai_cache.lmdb.\n"
     ]
    },
    {
     "name": "stderr",
     "output_type": "stream",
     "text": [
      "100%|██████████| 32/32 [00:00<00:00, 40305.62it/s]\n"
     ]
    },
    {
     "name": "stdout",
     "output_type": "stream",
     "text": [
      "{'map_addr': 0, 'map_size': 1099511627776, 'last_pgno': 941102, 'last_txnid': 100, 'max_readers': 126, 'num_readers': 0, 'size': 32, 'filename': '/home/jupyter/covid19det-kaggle/kaggle/monai_data/monai_cache.lmdb'}\n"
     ]
    },
    {
     "name": "stderr",
     "output_type": "stream",
     "text": [
      "100%|██████████| 9/9 [00:00<00:00, 17484.36it/s]\n"
     ]
    },
    {
     "name": "stdout",
     "output_type": "stream",
     "text": [
      "Accessing lmdb file: /home/jupyter/covid19det-kaggle/kaggle/monai_data/monai_cache.lmdb.\n"
     ]
    },
    {
     "name": "stderr",
     "output_type": "stream",
     "text": [
      "100%|██████████| 9/9 [00:00<00:00, 29723.41it/s]"
     ]
    },
    {
     "name": "stdout",
     "output_type": "stream",
     "text": [
      "{'map_addr': 0, 'map_size': 1099511627776, 'last_pgno': 941102, 'last_txnid': 100, 'max_readers': 126, 'num_readers': 0, 'size': 9, 'filename': '/home/jupyter/covid19det-kaggle/kaggle/monai_data/monai_cache.lmdb'}\n"
     ]
    },
    {
     "name": "stderr",
     "output_type": "stream",
     "text": [
      "\n"
     ]
    }
   ],
   "source": [
    "train_ds = LMDBDataset(data=train_files, transform=train_transforms, cache_dir=root_dir)\n",
    "# initialize cache and print meta information\n",
    "print(train_ds.info())\n",
    "\n",
    "# use batch_size=2 to load images and use RandCropByPosNegLabeld\n",
    "# to generate 2 x 4 images for network training\n",
    "train_loader = DataLoader(train_ds, batch_size=2, shuffle=True, num_workers=2)\n",
    "\n",
    "# the validation data loader will be created on the fly to ensure \n",
    "# a deterministic validation set for demo purpose.\n",
    "val_ds = LMDBDataset(data=val_files, transform=val_transforms, cache_dir=root_dir)\n",
    "# initialize cache and print meta information\n",
    "print(val_ds.info())"
   ]
  },
  {
   "cell_type": "code",
   "execution_count": 33,
   "id": "12eb915a",
   "metadata": {},
   "outputs": [
    {
     "name": "stdout",
     "output_type": "stream",
     "text": [
      "{'map_addr': 0, 'map_size': 1099511627776, 'last_pgno': 941102, 'last_txnid': 100, 'max_readers': 126, 'num_readers': 0, 'size': 32, 'filename': '/home/jupyter/covid19det-kaggle/kaggle/monai_data/monai_cache.lmdb'}\n"
     ]
    }
   ],
   "source": [
    "print(train_ds.info())"
   ]
  },
  {
   "cell_type": "code",
   "execution_count": 34,
   "id": "125a711e",
   "metadata": {},
   "outputs": [],
   "source": [
    "mmar = {\n",
    "    RemoteMMARKeys.ID: \"clara_pt_spleen_ct_segmentation_1\",\n",
    "    RemoteMMARKeys.NAME: \"clara_pt_spleen_ct_segmentation\",\n",
    "    RemoteMMARKeys.FILE_TYPE: \"zip\",\n",
    "    RemoteMMARKeys.HASH_TYPE: \"md5\",\n",
    "    RemoteMMARKeys.HASH_VAL: None,\n",
    "    RemoteMMARKeys.MODEL_FILE: os.path.join(\"models\", \"model.pt\"),\n",
    "    RemoteMMARKeys.CONFIG_FILE: os.path.join(\"config\", \"config_train.json\"),\n",
    "    RemoteMMARKeys.VERSION: 1,\n",
    "}"
   ]
  },
  {
   "cell_type": "code",
   "execution_count": 35,
   "id": "c401ca2f",
   "metadata": {},
   "outputs": [
    {
     "name": "stdout",
     "output_type": "stream",
     "text": [
      "using a randomly init. model.\n"
     ]
    }
   ],
   "source": [
    "device = torch.device(\"cuda:0\" if torch.cuda.is_available() else \"cpu\")\n",
    "\n",
    "if PRETRAINED:\n",
    "    print(\"using a pretrained model.\")\n",
    "    unet_model = load_from_mmar(\n",
    "        mmar, mmar_dir=root_dir,\n",
    "        map_location=device,\n",
    "        pretrained=True)\n",
    "    model = unet_model\n",
    "else:\n",
    "    print(\"using a randomly init. model.\")\n",
    "    model = UNet(\n",
    "        dimensions=3,\n",
    "        in_channels=1,\n",
    "        out_channels=2,\n",
    "        channels=(16, 32, 64, 128, 256),\n",
    "        strides=(2, 2, 2, 2),\n",
    "        num_res_units=2,\n",
    "        norm=Norm.BATCH,\n",
    "    )\n",
    "model = model.to(device)"
   ]
  },
  {
   "cell_type": "code",
   "execution_count": 36,
   "id": "f29370fd",
   "metadata": {},
   "outputs": [
    {
     "name": "stderr",
     "output_type": "stream",
     "text": [
      "100%|██████████| 1/1 [00:00<00:00, 6842.26it/s]"
     ]
    },
    {
     "name": "stdout",
     "output_type": "stream",
     "text": [
      "Accessing lmdb file: /home/jupyter/covid19det-kaggle/kaggle/monai_data/monai_cache.lmdb.\n"
     ]
    },
    {
     "name": "stderr",
     "output_type": "stream",
     "text": [
      "\n"
     ]
    }
   ],
   "source": [
    "test_file = data_dicts[20:21]\n",
    "test_ds = LMDBDataset(data=test_file, transform=None, cache_dir=root_dir)"
   ]
  },
  {
   "cell_type": "code",
   "execution_count": 37,
   "id": "4b6e6431",
   "metadata": {},
   "outputs": [],
   "source": [
    "post_pred = Compose([EnsureType(), AsDiscrete(argmax=True, to_onehot=True, n_classes=2)])\n",
    "post_label = Compose([EnsureType(), AsDiscrete(to_onehot=True, n_classes=2)])\n",
    "model.eval()\n",
    "with torch.no_grad():\n",
    "    for data in DataLoader(test_ds, batch_size=1, num_workers=2):\n",
    "        test_inputs, test_labels = (\n",
    "                        data[\"image\"].to(device),\n",
    "                        data[\"label\"].to(device),\n",
    "                    )\n",
    "        roi_size = (160, 160, 160)\n",
    "        sw_batch_size = 4\n",
    "        test_outputs = sliding_window_inference(\n",
    "            test_inputs, roi_size, sw_batch_size, model, overlap=0.5)\n",
    "        test_outputs = [post_pred(i) for i in decollate_batch(test_outputs)]\n",
    "        test_labels = [post_label(i) for i in decollate_batch(test_labels)]"
   ]
  },
  {
   "cell_type": "code",
   "execution_count": 38,
   "id": "512086d9",
   "metadata": {},
   "outputs": [
    {
     "data": {
      "text/plain": [
       "<matplotlib.image.AxesImage at 0x7f61966197d0>"
      ]
     },
     "execution_count": 38,
     "metadata": {},
     "output_type": "execute_result"
    },
    {
     "data": {
      "image/png": "[encoded data removed]",
      "text/plain": [
       "<Figure size 504x504 with 1 Axes>"
      ]
     },
     "metadata": {
      "needs_background": "light"
     },
     "output_type": "display_data"
    }
   ],
   "source": [
    "fig = plt.figure(frameon=False, figsize=(7,7))\n",
    "plt.title('Actual Spleen')\n",
    "plt.imshow(test_labels[0].cpu().numpy()[1][:,:,200], cmap='Greys_r') #Actual spleen"
   ]
  },
  {
   "cell_type": "code",
   "execution_count": 39,
   "id": "7ce8105f",
   "metadata": {},
   "outputs": [
    {
     "data": {
      "text/plain": [
       "<matplotlib.image.AxesImage at 0x7f61988e3750>"
      ]
     },
     "execution_count": 39,
     "metadata": {},
     "output_type": "execute_result"
    },
    {
     "data": {
      "image/png": "[encoded data removed]",
      "text/plain": [
       "<Figure size 504x504 with 1 Axes>"
      ]
     },
     "metadata": {
      "needs_background": "light"
     },
     "output_type": "display_data"
    }
   ],
   "source": [
    "fig = plt.figure(frameon=False, figsize=(7,7))\n",
    "plt.title('Pretrained Calculated Spleen')\n",
    "plt.imshow(test_outputs[0].cpu().numpy()[1][:,:,200], cmap='Greys_r') #Pretrained model spleen"
   ]
  },
  {
   "cell_type": "code",
   "execution_count": 40,
   "id": "51191672",
   "metadata": {},
   "outputs": [
    {
     "data": {
      "text/plain": [
       "<matplotlib.image.AxesImage at 0x7f6197821cd0>"
      ]
     },
     "execution_count": 40,
     "metadata": {},
     "output_type": "execute_result"
    },
    {
     "data": {
      "image/png": "[encoded data removed]",
      "text/plain": [
       "<Figure size 504x504 with 1 Axes>"
      ]
     },
     "metadata": {
      "needs_background": "light"
     },
     "output_type": "display_data"
    }
   ],
   "source": [
    "fig = plt.figure(frameon=False, figsize=(7,7))\n",
    "plt.title('Differences Between Actual and Model')\n",
    "pretraineddif = test_labels[0].cpu().numpy()[1][:,:,200] - test_outputs[0].cpu().numpy()[1][:,:,200]\n",
    "plt.imshow(pretraineddif, cmap='Greys_r') #Differences"
   ]
  },
  {
   "cell_type": "code",
   "execution_count": 41,
   "id": "b6c72eaf",
   "metadata": {},
   "outputs": [],
   "source": [
    "loss_function = DiceFocalLoss(to_onehot_y=True, softmax=True)\n",
    "optimizer = torch.optim.Adam(model.parameters(), 5e-4)"
   ]
  },
  {
   "cell_type": "code",
   "execution_count": null,
   "id": "c8b552ff",
   "metadata": {},
   "outputs": [
    {
     "name": "stdout",
     "output_type": "stream",
     "text": [
      "----------\n",
      "epoch 1/25\n",
      "1/16, train_loss: 0.9791\n",
      "2/16, train_loss: 0.9552\n",
      "3/16, train_loss: 0.9070\n",
      "4/16, train_loss: 0.8837\n",
      "5/16, train_loss: 0.8578\n",
      "6/16, train_loss: 0.8361\n",
      "7/16, train_loss: 0.8458\n",
      "8/16, train_loss: 0.8164\n",
      "9/16, train_loss: 0.8009\n",
      "10/16, train_loss: 0.8321\n",
      "11/16, train_loss: 0.8021\n",
      "12/16, train_loss: 0.8085\n",
      "13/16, train_loss: 0.7986\n",
      "14/16, train_loss: 0.7759\n",
      "15/16, train_loss: 0.8061\n",
      "16/16, train_loss: 0.7834\n",
      "epoch 1 average loss: 0.8430\n",
      "----------\n",
      "epoch 2/25\n",
      "1/16, train_loss: 0.7855\n",
      "2/16, train_loss: 0.7885\n",
      "3/16, train_loss: 0.7658\n",
      "4/16, train_loss: 0.7501\n",
      "5/16, train_loss: 0.7554\n",
      "6/16, train_loss: 0.7135\n",
      "7/16, train_loss: 0.7626\n",
      "8/16, train_loss: 0.7287\n",
      "9/16, train_loss: 0.7181\n",
      "10/16, train_loss: 0.7702\n",
      "11/16, train_loss: 0.7350\n",
      "12/16, train_loss: 0.7545\n",
      "13/16, train_loss: 0.7367\n",
      "14/16, train_loss: 0.7047\n",
      "15/16, train_loss: 0.7486\n",
      "16/16, train_loss: 0.7253\n",
      "epoch 2 average loss: 0.7465\n",
      "saved new best metric model\n",
      "current epoch: 2 current mean dice: 0.0231\n",
      "best mean dice: 0.0231 at epoch: 2\n",
      "----------\n",
      "epoch 3/25\n",
      "1/16, train_loss: 0.7315\n",
      "2/16, train_loss: 0.7409\n",
      "3/16, train_loss: 0.7147\n",
      "4/16, train_loss: 0.6977\n",
      "5/16, train_loss: 0.7087\n",
      "6/16, train_loss: 0.6567\n",
      "7/16, train_loss: 0.7171\n",
      "8/16, train_loss: 0.6806\n",
      "9/16, train_loss: 0.6719\n",
      "10/16, train_loss: 0.7337\n",
      "11/16, train_loss: 0.6917\n",
      "12/16, train_loss: 0.7188\n",
      "13/16, train_loss: 0.6964\n",
      "14/16, train_loss: 0.6629\n",
      "15/16, train_loss: 0.7128\n",
      "16/16, train_loss: 0.6875\n",
      "epoch 3 average loss: 0.7015\n",
      "----------\n",
      "epoch 4/25\n",
      "1/16, train_loss: 0.6976\n",
      "2/16, train_loss: 0.7080\n",
      "3/16, train_loss: 0.6796\n",
      "4/16, train_loss: 0.6608\n",
      "5/16, train_loss: 0.6758\n",
      "6/16, train_loss: 0.6193\n",
      "7/16, train_loss: 0.6845\n",
      "8/16, train_loss: 0.6443\n",
      "9/16, train_loss: 0.6357\n",
      "10/16, train_loss: 0.7010\n",
      "11/16, train_loss: 0.6570\n",
      "12/16, train_loss: 0.6889\n",
      "13/16, train_loss: 0.6613\n",
      "14/16, train_loss: 0.6269\n",
      "15/16, train_loss: 0.6807\n",
      "16/16, train_loss: 0.6559\n",
      "epoch 4 average loss: 0.6673\n",
      "saved new best metric model\n",
      "current epoch: 4 current mean dice: 0.0832\n",
      "best mean dice: 0.0832 at epoch: 4\n",
      "----------\n",
      "epoch 5/25\n",
      "1/16, train_loss: 0.6646\n",
      "2/16, train_loss: 0.6747\n",
      "3/16, train_loss: 0.6480\n",
      "4/16, train_loss: 0.6270\n",
      "5/16, train_loss: 0.6425\n",
      "6/16, train_loss: 0.5861\n",
      "7/16, train_loss: 0.6502\n",
      "8/16, train_loss: 0.6073\n",
      "9/16, train_loss: 0.6015\n",
      "10/16, train_loss: 0.6690\n",
      "11/16, train_loss: 0.6228\n",
      "12/16, train_loss: 0.6654\n",
      "13/16, train_loss: 0.6245\n",
      "14/16, train_loss: 0.5902\n",
      "15/16, train_loss: 0.6418\n",
      "16/16, train_loss: 0.6163\n",
      "epoch 5 average loss: 0.6332\n",
      "----------\n",
      "epoch 6/25\n",
      "1/16, train_loss: 0.6234\n",
      "2/16, train_loss: 0.6389\n",
      "3/16, train_loss: 0.6063\n",
      "4/16, train_loss: 0.5819\n",
      "5/16, train_loss: 0.5875\n",
      "6/16, train_loss: 0.5376\n",
      "7/16, train_loss: 0.6016\n",
      "8/16, train_loss: 0.5479\n",
      "9/16, train_loss: 0.5417\n",
      "10/16, train_loss: 0.6347\n",
      "11/16, train_loss: 0.5705\n",
      "12/16, train_loss: 0.6037\n",
      "13/16, train_loss: 0.5704\n",
      "14/16, train_loss: 0.5249\n",
      "15/16, train_loss: 0.5910\n",
      "16/16, train_loss: 0.5637\n",
      "epoch 6 average loss: 0.5829\n",
      "saved new best metric model\n",
      "current epoch: 6 current mean dice: 0.1710\n",
      "best mean dice: 0.1710 at epoch: 6\n",
      "----------\n",
      "epoch 7/25\n",
      "1/16, train_loss: 0.5721\n",
      "2/16, train_loss: 0.6073\n",
      "3/16, train_loss: 0.5586\n",
      "4/16, train_loss: 0.5265\n",
      "5/16, train_loss: 0.5405\n",
      "6/16, train_loss: 0.4917\n",
      "7/16, train_loss: 0.5554\n",
      "8/16, train_loss: 0.5065\n",
      "9/16, train_loss: 0.4912\n",
      "10/16, train_loss: 0.6065\n",
      "11/16, train_loss: 0.5297\n",
      "12/16, train_loss: 0.5688\n",
      "13/16, train_loss: 0.5277\n",
      "14/16, train_loss: 0.4853\n",
      "15/16, train_loss: 0.5601\n",
      "16/16, train_loss: 0.5190\n",
      "epoch 7 average loss: 0.5404\n",
      "----------\n",
      "epoch 8/25\n",
      "1/16, train_loss: 0.5336\n",
      "2/16, train_loss: 0.5662\n",
      "3/16, train_loss: 0.5217\n",
      "4/16, train_loss: 0.4799\n",
      "5/16, train_loss: 0.4847\n",
      "6/16, train_loss: 0.4410\n",
      "7/16, train_loss: 0.5157\n",
      "8/16, train_loss: 0.4588\n"
     ]
    }
   ],
   "source": [
    "max_epochs = 25\n",
    "val_interval = 2\n",
    "best_metric = -1\n",
    "best_metric_epoch = -1\n",
    "epoch_loss_values = []\n",
    "metric_values = []\n",
    "post_pred = Compose([EnsureType(), AsDiscrete(argmax=True, to_onehot=True, n_classes=2)])\n",
    "post_label = Compose([EnsureType(), AsDiscrete(to_onehot=True, n_classes=2)])\n",
    "dice_metric = DiceMetric(include_background=False, reduction=\"mean\", get_not_nans=False)\n",
    "\n",
    "for epoch in range(max_epochs):\n",
    "    print(\"-\" * 10)\n",
    "    print(f\"epoch {epoch + 1}/{max_epochs}\")\n",
    "    model.train()\n",
    "    epoch_loss = 0\n",
    "    step = 0\n",
    "    set_determinism(seed=42)\n",
    "    for batch_data in train_loader:\n",
    "        step += 1\n",
    "        inputs, labels = (\n",
    "            batch_data[\"image\"].to(device),\n",
    "            batch_data[\"label\"].to(device),\n",
    "        )\n",
    "        optimizer.zero_grad()\n",
    "        outputs = model(inputs)\n",
    "        loss = loss_function(outputs, labels)\n",
    "        loss.backward()\n",
    "        optimizer.step()\n",
    "        epoch_loss += loss.item()\n",
    "        print(\n",
    "            f\"{step}/{len(train_ds) // train_loader.batch_size}, \"\n",
    "            f\"train_loss: {loss.item():.4f}\")\n",
    "    epoch_loss /= step\n",
    "    epoch_loss_values.append(epoch_loss)\n",
    "    print(f\"epoch {epoch + 1} average loss: {epoch_loss:.4f}\")\n",
    "\n",
    "    if (epoch + 1) % val_interval == 0:\n",
    "        model.eval()\n",
    "        with torch.no_grad():\n",
    "            set_determinism(seed=42)\n",
    "            for val_data in DataLoader(val_ds, batch_size=1, num_workers=2):\n",
    "                val_inputs, val_labels = (\n",
    "                    val_data[\"image\"].to(device),\n",
    "                    val_data[\"label\"].to(device),\n",
    "                )\n",
    "                roi_size = (160, 160, 160)\n",
    "                sw_batch_size = 4\n",
    "                val_outputs = sliding_window_inference(\n",
    "                    val_inputs, roi_size, sw_batch_size, model, overlap=0.5)\n",
    "                val_outputs = [post_pred(i) for i in decollate_batch(val_outputs)]\n",
    "                val_labels = [post_label(i) for i in decollate_batch(val_labels)]\n",
    "                dice_metric(y_pred=val_outputs, y=val_labels)\n",
    "            metric = dice_metric.aggregate().item()\n",
    "            dice_metric.reset()\n",
    "            metric_values.append(metric)\n",
    "            if metric > best_metric:\n",
    "                best_metric = metric\n",
    "                best_metric_epoch = epoch + 1\n",
    "                torch.save(model.state_dict(), os.path.join(\n",
    "                    root_dir, \"best_metric_model.pth\"))\n",
    "                print(\"saved new best metric model\")\n",
    "            print(\n",
    "                f\"current epoch: {epoch + 1} current mean dice: {metric:.4f}\"\n",
    "                f\"\\nbest mean dice: {best_metric:.4f} \"\n",
    "                f\"at epoch: {best_metric_epoch}\"\n",
    "            )\n",
    "print(\n",
    "    f\"train completed, best_metric: {best_metric:.4f} \"\n",
    "    f\"at epoch: {best_metric_epoch}\")"
   ]
  },
  {
   "cell_type": "code",
   "execution_count": null,
   "id": "0efd0aa2",
   "metadata": {},
   "outputs": [],
   "source": [
    "plt.figure(\"train\", (12, 6))\n",
    "plt.subplot(1, 2, 1)\n",
    "plt.title(\"Epoch Average Loss\")\n",
    "x = [i + 1 for i in range(len(epoch_loss_values))]\n",
    "y = epoch_loss_values\n",
    "plt.xlabel(\"epoch\")\n",
    "plt.ylim([0.1, 1.0])\n",
    "plt.plot(x, y)\n",
    "plt.subplot(1, 2, 2)\n",
    "plt.title(\"Val Mean Dice\")\n",
    "x = [val_interval * (i + 1) for i in range(len(metric_values))]\n",
    "y = metric_values\n",
    "plt.xlabel(\"epoch\")\n",
    "plt.ylim([0, 1.0])\n",
    "plt.plot(x, y)\n",
    "plt.show()"
   ]
  },
  {
   "cell_type": "code",
   "execution_count": null,
   "id": "e60cb5b9",
   "metadata": {},
   "outputs": [],
   "source": [
    "model.load_state_dict(torch.load('monai_data/best_metric_model.pth'))"
   ]
  },
  {
   "cell_type": "code",
   "execution_count": null,
   "id": "8379acfc",
   "metadata": {},
   "outputs": [],
   "source": [
    "post_pred = Compose([EnsureType(), AsDiscrete(argmax=True, to_onehot=True, n_classes=2)])\n",
    "post_label = Compose([EnsureType(), AsDiscrete(to_onehot=True, n_classes=2)])\n",
    "model.eval()\n",
    "with torch.no_grad():\n",
    "    for data in DataLoader(test_ds, batch_size=1, num_workers=2):\n",
    "        test_inputs, test_labels = (\n",
    "                        data[\"image\"].to(device),\n",
    "                        data[\"label\"].to(device),\n",
    "                    )\n",
    "        roi_size = (160, 160, 160)\n",
    "        sw_batch_size = 4\n",
    "        test_outputs = sliding_window_inference(\n",
    "            test_inputs, roi_size, sw_batch_size, model, overlap=0.5)\n",
    "        test_outputs = [post_pred(i) for i in decollate_batch(test_outputs)]\n",
    "        test_labels = [post_label(i) for i in decollate_batch(test_labels)]"
   ]
  },
  {
   "cell_type": "code",
   "execution_count": null,
   "id": "03d76bf4",
   "metadata": {},
   "outputs": [],
   "source": [
    "fig = plt.figure(frameon=False, figsize=(7,7))\n",
    "plt.title('Actual Spleen')\n",
    "plt.imshow(test_labels[0].cpu().numpy()[1][:,:,200], cmap='Greys') #Actual spleen"
   ]
  },
  {
   "cell_type": "code",
   "execution_count": null,
   "id": "ae7ace69",
   "metadata": {},
   "outputs": [],
   "source": [
    "fig = plt.figure(frameon=False, figsize=(7,7))\n",
    "plt.title('Model (random initialization) Calculated Spleen')\n",
    "plt.imshow(test_outputs[0].cpu().numpy()[1][:,:,200], cmap='Greys') #Pretrained model spleen"
   ]
  },
  {
   "cell_type": "code",
   "execution_count": null,
   "id": "2da54704",
   "metadata": {},
   "outputs": [],
   "source": [
    "fig = plt.figure(frameon=False, figsize=(7,7))\n",
    "plt.title('Differences Between Actual and Model')\n",
    "traineddif = test_labels[0].cpu().numpy()[1][:,:,200] - test_outputs[0].cpu().numpy()[1][:,:,200]\n",
    "plt.imshow(traineddif, cmap='Greys') #Differences"
   ]
  },
  {
   "cell_type": "code",
   "execution_count": null,
   "id": "295bf9d9",
   "metadata": {},
   "outputs": [],
   "source": [
    "fig = plt.figure(frameon=False, figsize=(10,10))\n",
    "#plt.imshow(np.rot90(test_ds[0]['image'][0][:,:,200]), cmap='Greys_r')\n",
    "plt.imshow(np.rot90(test_outputs[0].cpu().numpy()[1][:,:,200]), cmap='cividis', alpha=0.25)"
   ]
  },
  {
   "cell_type": "code",
   "execution_count": null,
   "id": "a0375ae3",
   "metadata": {},
   "outputs": [],
   "source": []
  },
  {
   "cell_type": "code",
   "execution_count": null,
   "id": "3b6197d2",
   "metadata": {},
   "outputs": [],
   "source": []
  }
 ],
 "metadata": {
  "environment": {
   "name": "pytorch-gpu.1-9.m75",
   "type": "gcloud",
   "uri": "gcr.io/deeplearning-platform-release/pytorch-gpu.1-9:m75"
  },
  "kernelspec": {
   "display_name": "Python 3",
   "language": "python",
   "name": "python3"
  },
  "language_info": {
   "codemirror_mode": {
    "name": "ipython",
    "version": 3
   },
   "file_extension": ".py",
   "mimetype": "text/x-python",
   "name": "python",
   "nbconvert_exporter": "python",
   "pygments_lexer": "ipython3",
   "version": "3.7.10"
  }
 },
 "nbformat": 4,
 "nbformat_minor": 5
}
